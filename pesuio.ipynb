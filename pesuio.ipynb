{
 "cells": [
  {
   "cell_type": "code",
   "execution_count": 6,
   "metadata": {},
   "outputs": [
    {
     "name": "stdout",
     "output_type": "stream",
     "text": [
      "1,2,3,4\n",
      "THIS IS A LIST OF ELEMENTS:\n",
      "[1, 2, 3, 4]\n",
      "THIS IS A TUPLE OF ELEMENTS:\n",
      "(1, 2, 3, 4)\n"
     ]
    }
   ],
   "source": [
    "#Write a Python program which accepts a sequence of comma-separated numbers from the user and generate a list and a tuple with those numbers. \n",
    "l=input().split(',')\n",
    "list_n=[]\n",
    "for i in l:\n",
    "    list_n.append(int(i))\n",
    "tuple_n=tuple(list_n)\n",
    "print(\"THIS IS A LIST OF ELEMENTS:\")\n",
    "print(list_n)\n",
    "print(\"THIS IS A TUPLE OF ELEMENTS:\")\n",
    "print(tuple_n)"
   ]
  },
  {
   "cell_type": "code",
   "execution_count": 7,
   "metadata": {},
   "outputs": [
    {
     "name": "stdout",
     "output_type": "stream",
     "text": [
      "386\n",
      "462\n",
      "418\n",
      "344\n",
      "236\n",
      "566\n",
      "978\n",
      "328\n",
      "162\n",
      "758\n",
      "918\n"
     ]
    }
   ],
   "source": [
    "#Write a Python program to print all even numbers from a given numbers list in the same order and stop the printing if any numbers that come after 237 in the sequence. \n",
    "numbers = [386, 462, 47, 418, 907, 344, 236, 375, 823, 566, 597, 978, 328, 615, 953, 345, 399, 162, 758, 219, 918, 237, 412, 566, 826, 248, 866, 950, 626, 949, 687, 217, 815, 67, 104, 58, 512, 24, 892, 894, 767, 553, 81, 379, 843, 831, 445, 742, 717, 958,743, 527]\n",
    "i=0\n",
    "while(numbers[i]!=237):\n",
    "    if(numbers[i]%2==0):\n",
    "        print(numbers[i])\n",
    "    i+=1"
   ]
  },
  {
   "cell_type": "code",
   "execution_count": 9,
   "metadata": {},
   "outputs": [
    {
     "name": "stdout",
     "output_type": "stream",
     "text": [
      "1,3,2,4\n",
      "ENTER THE NUMBER TO BE SEARCHED:1\n",
      "ELEMENT FOUND!\n"
     ]
    }
   ],
   "source": [
    "#Write a python program for binary search to search a number in the list of given numbers. If the number isn't present, give the appropriate message. Both the list and the number to be searched is given by the user. \n",
    "l=input().split(',')\n",
    "list_n=[]\n",
    "for i in l:\n",
    "    list_n.append(int(i))\n",
    "list_n=sorted(list_n)\n",
    "num=int(input(\"ENTER THE NUMBER TO BE SEARCHED:\"))\n",
    "low=0\n",
    "high=len(list_n)-1\n",
    "c=0\n",
    "while(high>=low and c==0):\n",
    "    mid=int((high+low)/2)\n",
    "    if(list_n[mid]==num):\n",
    "        print(\"ELEMENT FOUND!\")\n",
    "        c+=1\n",
    "    elif(list_n[mid]>num):\n",
    "        high=mid-1\n",
    "    else:\n",
    "        low=mid+1\n",
    "if(c==0):\n",
    "    print(\"ELEMENT NOT FOUND!!!\")"
   ]
  },
  {
   "cell_type": "code",
   "execution_count": 10,
   "metadata": {},
   "outputs": [
    {
     "name": "stdout",
     "output_type": "stream",
     "text": [
      "ENTER THE NUMBER:123\n",
      "the sum of the digits is:\n",
      "6\n"
     ]
    }
   ],
   "source": [
    "#Write a Python program to calculate the sum of the digits in an integer.\n",
    "num=int(input(\"ENTER THE NUMBER:\"))\n",
    "p=num\n",
    "q=0\n",
    "while(p>0):\n",
    "    q+=p%10\n",
    "    p=p//10\n",
    "print(\"the sum of the digits is:\")\n",
    "print(q)"
   ]
  },
  {
   "cell_type": "code",
   "execution_count": 11,
   "metadata": {},
   "outputs": [
    {
     "name": "stdout",
     "output_type": "stream",
     "text": [
      "ENTER THE STRING:1223\n",
      "THE GIVEN STRING IS A NUMERIC\n"
     ]
    }
   ],
   "source": [
    "#Write a Python program to check if a string is numeric.\n",
    "p=input(\"ENTER THE STRING:\")#input returns a string\n",
    "if(p.isdigit()):\n",
    "    print(\"THE GIVEN STRING IS A NUMERIC\")\n",
    "else:\n",
    "    print(\"THE GIVEN STRING IS NOT A NUMERIC\")"
   ]
  },
  {
   "cell_type": "code",
   "execution_count": null,
   "metadata": {},
   "outputs": [],
   "source": []
  }
 ],
 "metadata": {
  "kernelspec": {
   "display_name": "Python 3",
   "language": "python",
   "name": "python3"
  },
  "language_info": {
   "codemirror_mode": {
    "name": "ipython",
    "version": 3
   },
   "file_extension": ".py",
   "mimetype": "text/x-python",
   "name": "python",
   "nbconvert_exporter": "python",
   "pygments_lexer": "ipython3",
   "version": "3.6.5"
  }
 },
 "nbformat": 4,
 "nbformat_minor": 2
}
